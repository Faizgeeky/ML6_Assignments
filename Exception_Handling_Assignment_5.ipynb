{
  "nbformat": 4,
  "nbformat_minor": 0,
  "metadata": {
    "colab": {
      "name": "Exception_Handling_Assignment_5.ipynb",
      "provenance": [],
      "collapsed_sections": [],
      "authorship_tag": "ABX9TyMx3WFg6eASdciXucUBdDD0",
      "include_colab_link": true
    },
    "kernelspec": {
      "name": "python3",
      "display_name": "Python 3"
    }
  },
  "cells": [
    {
      "cell_type": "markdown",
      "metadata": {
        "id": "view-in-github",
        "colab_type": "text"
      },
      "source": [
        "<a href=\"https://colab.research.google.com/github/Faizgeeky/ML6_Assignments/blob/master/Exception_Handling_Assignment_5.ipynb\" target=\"_parent\"><img src=\"https://colab.research.google.com/assets/colab-badge.svg\" alt=\"Open In Colab\"/></a>"
      ]
    },
    {
      "cell_type": "markdown",
      "metadata": {
        "id": "FrGEjqLXCSrd",
        "colab_type": "text"
      },
      "source": [
        "# Assignment 5 Exception Handling"
      ]
    },
    {
      "cell_type": "markdown",
      "metadata": {
        "id": "klBDeOp1CZrf",
        "colab_type": "text"
      },
      "source": [
        "Task1¶\n",
        "1. Write a function to compute 5/0 and use try/except to catch the exceptions."
      ]
    },
    {
      "cell_type": "code",
      "metadata": {
        "id": "muE3h7S4Caz0",
        "colab_type": "code",
        "colab": {
          "base_uri": "https://localhost:8080/",
          "height": 34
        },
        "outputId": "cfdc8399-cd57-46f8-b332-a5b3fcbee020"
      },
      "source": [
        "def exception():\n",
        "    try :\n",
        "        a = 5/0\n",
        "        print(a)\n",
        "    except Exception as e:\n",
        "        print(e)\n",
        "exception()"
      ],
      "execution_count": 4,
      "outputs": [
        {
          "output_type": "stream",
          "text": [
            "division by zero\n"
          ],
          "name": "stdout"
        }
      ]
    },
    {
      "cell_type": "markdown",
      "metadata": {
        "id": "jtdXnYAIDKqw",
        "colab_type": "text"
      },
      "source": [
        "2. Implement a Python program to generate all sentences where subject is in\n",
        "[\"Americans\", \"Indians\"] and verb is in [\"Play\", \"watch\"] and the object is in\n",
        "[\"Baseball\",\"cricket\"].\n",
        "Hint: Subject,Verb and Object should be declared in the program as shown below.\n",
        "subjects=[\"Americans \",\"Indians\"]\n",
        "verbs=[\"play\",\"watch\"]\n",
        "objects=[\"Baseball\",\"Cricket\"]"
      ]
    },
    {
      "cell_type": "code",
      "metadata": {
        "id": "9rEY8COZCkN5",
        "colab_type": "code",
        "colab": {
          "base_uri": "https://localhost:8080/",
          "height": 151
        },
        "outputId": "2ce26e9d-f9a7-46bb-edd2-25e44ad2fe56"
      },
      "source": [
        "subjects=[\"Americans\",\"Indians\"]\n",
        "verbs=[\"play\",\"watch\"]\n",
        "objects=[\"Baseball\",\"Cricket\"]\n",
        "\n",
        "# 1St Method\n",
        "result_list = [i +\" \" + j+ \" \"+ k    for i in subjects for j in verbs for k in objects]\n",
        "\n",
        "for i in result_list:\n",
        "    print(i)\n",
        "\n",
        "# #2nd Method \n",
        "# for i in subjects:\n",
        "#     for j in verbs:\n",
        "#         for k in objects:\n",
        "#             print(i + \" \"+j+\" \"+k)\n",
        "\n"
      ],
      "execution_count": 14,
      "outputs": [
        {
          "output_type": "stream",
          "text": [
            "Americans play Baseball\n",
            "Americans play Cricket\n",
            "Americans watch Baseball\n",
            "Americans watch Cricket\n",
            "Indians play Baseball\n",
            "Indians play Cricket\n",
            "Indians watch Baseball\n",
            "Indians watch Cricket\n"
          ],
          "name": "stdout"
        }
      ]
    },
    {
      "cell_type": "code",
      "metadata": {
        "id": "vB3s776qDsOp",
        "colab_type": "code",
        "colab": {}
      },
      "source": [
        ""
      ],
      "execution_count": null,
      "outputs": []
    }
  ]
}