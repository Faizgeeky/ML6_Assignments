{
  "nbformat": 4,
  "nbformat_minor": 0,
  "metadata": {
    "colab": {
      "name": "Assignment_2",
      "provenance": [],
      "collapsed_sections": [],
      "authorship_tag": "ABX9TyM4ycg+LfqIq6+LEvlkyQ7I",
      "include_colab_link": true
    },
    "kernelspec": {
      "name": "python3",
      "display_name": "Python 3"
    }
  },
  "cells": [
    {
      "cell_type": "markdown",
      "metadata": {
        "id": "view-in-github",
        "colab_type": "text"
      },
      "source": [
        "<a href=\"https://colab.research.google.com/github/Faizgeeky/ML6_Assignments/blob/master/Assignment_2.ipynb\" target=\"_parent\"><img src=\"https://colab.research.google.com/assets/colab-badge.svg\" alt=\"Open In Colab\"/></a>"
      ]
    },
    {
      "cell_type": "code",
      "metadata": {
        "id": "gF5rxOAmYXBL",
        "colab_type": "code",
        "colab": {}
      },
      "source": [
        "# Assignment 2"
      ],
      "execution_count": 1,
      "outputs": []
    },
    {
      "cell_type": "code",
      "metadata": {
        "id": "mAZSg1ImYctc",
        "colab_type": "code",
        "colab": {}
      },
      "source": [
        "# 1. Create the below pattern using nested for loop in Python."
      ],
      "execution_count": 4,
      "outputs": []
    },
    {
      "cell_type": "code",
      "metadata": {
        "id": "rQzjq-ZvYfRG",
        "colab_type": "code",
        "colab": {
          "base_uri": "https://localhost:8080/",
          "height": 202
        },
        "outputId": "c963a436-2edd-4dc1-c650-3c37312edfba"
      },
      "source": [
        "n=6\n",
        "for i in range(n):\n",
        "    print(\"*\"*(i+1))\n",
        "\n",
        "for i in range(n-1):\n",
        "    print(\"*\"*(n-i-1))"
      ],
      "execution_count": 5,
      "outputs": [
        {
          "output_type": "stream",
          "text": [
            "*\n",
            "**\n",
            "***\n",
            "****\n",
            "*****\n",
            "******\n",
            "*****\n",
            "****\n",
            "***\n",
            "**\n",
            "*\n"
          ],
          "name": "stdout"
        }
      ]
    },
    {
      "cell_type": "markdown",
      "metadata": {
        "id": "DSijV4ZqYr1q",
        "colab_type": "text"
      },
      "source": [
        "2. Write a Python program to reverse a word after accepting the input from the user.\n",
        "\n",
        "Input word: ineuron\n",
        "Output: norueni\n"
      ]
    },
    {
      "cell_type": "code",
      "metadata": {
        "id": "v4nIYvgNYwpi",
        "colab_type": "code",
        "colab": {
          "base_uri": "https://localhost:8080/",
          "height": 50
        },
        "outputId": "b9402983-7be7-4217-e854-6406d66a3a40"
      },
      "source": [
        "word = input(\"Enter anything to Reverse: \")\n",
        "print(word[::-1])"
      ],
      "execution_count": 6,
      "outputs": [
        {
          "output_type": "stream",
          "text": [
            "Enter anything to Reverse: ineuron\n",
            "norueni\n"
          ],
          "name": "stdout"
        }
      ]
    },
    {
      "cell_type": "code",
      "metadata": {
        "id": "1Lcg4sGlY21S",
        "colab_type": "code",
        "colab": {}
      },
      "source": [
        ""
      ],
      "execution_count": null,
      "outputs": []
    }
  ]
}