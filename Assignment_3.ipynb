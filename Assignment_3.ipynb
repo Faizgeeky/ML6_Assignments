{
  "nbformat": 4,
  "nbformat_minor": 0,
  "metadata": {
    "kernelspec": {
      "display_name": "Python 3",
      "language": "python",
      "name": "python3"
    },
    "language_info": {
      "codemirror_mode": {
        "name": "ipython",
        "version": 3
      },
      "file_extension": ".py",
      "mimetype": "text/x-python",
      "name": "python",
      "nbconvert_exporter": "python",
      "pygments_lexer": "ipython3",
      "version": "3.6.5"
    },
    "colab": {
      "name": "Assignment 3.ipynb",
      "provenance": [],
      "collapsed_sections": [],
      "include_colab_link": true
    }
  },
  "cells": [
    {
      "cell_type": "markdown",
      "metadata": {
        "id": "view-in-github",
        "colab_type": "text"
      },
      "source": [
        "<a href=\"https://colab.research.google.com/github/Faizgeeky/ML6_Assignments/blob/master/Assignment_3.ipynb\" target=\"_parent\"><img src=\"https://colab.research.google.com/assets/colab-badge.svg\" alt=\"Open In Colab\"/></a>"
      ]
    },
    {
      "cell_type": "markdown",
      "metadata": {
        "id": "7jHl49U7bhjZ",
        "colab_type": "text"
      },
      "source": [
        "# Assignment 3"
      ]
    },
    {
      "cell_type": "markdown",
      "metadata": {
        "id": "tNKnOuVzb4cC",
        "colab_type": "text"
      },
      "source": [
        "1.1 Write a Python Program to implement your own myreduce() function which works exactly\n",
        "like Python's built-in function reduce()"
      ]
    },
    {
      "cell_type": "code",
      "metadata": {
        "id": "-6ptM969bhjb",
        "colab_type": "code",
        "colab": {
          "base_uri": "https://localhost:8080/",
          "height": 34
        },
        "outputId": "e4035727-0642-4db1-eb36-34bf74ff70a9"
      },
      "source": [
        "from functools import reduce\n",
        "\n",
        "l1 = [5,4,96,7,5,6]\n",
        "\n",
        "# f = lambda x,y : y if y>x else x\n",
        "# print(reduce(f,l1)\n",
        "\n",
        "\n",
        "def my_reduce(fun,l1):\n",
        "    res = l1[0]\n",
        "    for i in l1:\n",
        "        res = fun(res,i)\n",
        "    \n",
        "    return res\n",
        "def max_no(x,y):\n",
        "      return x if x>y else y\n",
        "\n",
        "my_reduce(max_no,l1)"
      ],
      "execution_count": 2,
      "outputs": [
        {
          "output_type": "execute_result",
          "data": {
            "text/plain": [
              "96"
            ]
          },
          "metadata": {
            "tags": []
          },
          "execution_count": 2
        }
      ]
    },
    {
      "cell_type": "markdown",
      "metadata": {
        "id": "zISgoZ6qb_Ok",
        "colab_type": "text"
      },
      "source": [
        "1.2 Write a Python program to implement your own myfilter() function which works exactly\n",
        "like Python's built-in function filter()"
      ]
    },
    {
      "cell_type": "code",
      "metadata": {
        "id": "CAJlYwszbhji",
        "colab_type": "code",
        "colab": {
          "base_uri": "https://localhost:8080/",
          "height": 34
        },
        "outputId": "acec3bf2-5646-4c35-bb6e-2438b1f82866"
      },
      "source": [
        "l = [5,6,9,0,8,4,6,1,2]\n",
        "\n",
        "\n",
        "def my_filter(fun,l):\n",
        "    l1 = []\n",
        "    for i in l:\n",
        "        x=fun(i)\n",
        "        if x!=None:\n",
        "            l1.append(x)\n",
        "    return l1\n",
        "\n",
        "def dem(x):\n",
        "    if x<5:\n",
        "        return x\n",
        "    \n",
        "my_filter(dem,l)"
      ],
      "execution_count": 3,
      "outputs": [
        {
          "output_type": "execute_result",
          "data": {
            "text/plain": [
              "[0, 4, 1, 2]"
            ]
          },
          "metadata": {
            "tags": []
          },
          "execution_count": 3
        }
      ]
    },
    {
      "cell_type": "markdown",
      "metadata": {
        "id": "UdTfYmkRbhjn",
        "colab_type": "text"
      },
      "source": [
        "2. Implement List comprehensions to produce the following lists.\n",
        "Write List comprehensions to produce the following Lists\n",
        "\n",
        "\n",
        "\n",
        "['A', 'C', 'A', 'D', 'G', 'I', ’L’, ‘ D’]\n",
        "\n",
        "\n",
        "['x', 'xx', 'xxx', 'xxxx', 'y', 'yy', 'yyy', 'yyyy', 'z', 'zz', 'zzz', 'zzzz']\n",
        "\n",
        "\n",
        "['x', 'y', 'z', 'xx', 'yy', 'zz', 'xxx', 'yyy', 'zzz', 'xxxx', 'yyyy', 'zzzz']\n",
        "\n",
        "\n",
        "[[2], [3], [4], [3], [4], [5], [4], [5], [6]] [[2, 3, 4, 5], [3, 4, 5, 6],\n",
        "[4, 5, 6, 7], [5, 6, 7, 8]]\n",
        "\n",
        "\n",
        "[(1, 1), (2, 1), (3, 1), (1, 2), (2, 2), (3, 2), (1, 3), (2, 3), (3, 3)]"
      ]
    },
    {
      "cell_type": "code",
      "metadata": {
        "id": "0ks48jLvbhjo",
        "colab_type": "code",
        "colab": {
          "base_uri": "https://localhost:8080/",
          "height": 34
        },
        "outputId": "b268e190-2923-49e8-b0cb-d5dba251c5e3"
      },
      "source": [
        "word = \"ACADGILD\"\n",
        "list1=[]\n",
        "for i in word:\n",
        "    list1.append(i)\n",
        "print(list1)"
      ],
      "execution_count": 4,
      "outputs": [
        {
          "output_type": "stream",
          "text": [
            "['A', 'C', 'A', 'D', 'G', 'I', 'L', 'D']\n"
          ],
          "name": "stdout"
        }
      ]
    },
    {
      "cell_type": "code",
      "metadata": {
        "id": "4j5xNfODbhju",
        "colab_type": "code",
        "colab": {
          "base_uri": "https://localhost:8080/",
          "height": 34
        },
        "outputId": "cb419f90-adf3-48b5-dddd-d23430115344"
      },
      "source": [
        "word = \"XYZ\"\n",
        "list2=[]\n",
        "\n",
        "# first method\n",
        "\n",
        "# for i in word:\n",
        "\n",
        "#     for j in range(1,len(word)+1):\n",
        "\n",
        "#         pattern = j * i\n",
        "#         list2.append(pattern)\n",
        "        \n",
        "\n",
        "l = [j*i for i in word for j in range(1,len(word)+1)]\n",
        "\n",
        "#output first method\n",
        "#print(list2)\n",
        "\n",
        "#output second method\n",
        "print(l)"
      ],
      "execution_count": 5,
      "outputs": [
        {
          "output_type": "stream",
          "text": [
            "['X', 'XX', 'XXX', 'Y', 'YY', 'YYY', 'Z', 'ZZ', 'ZZZ']\n"
          ],
          "name": "stdout"
        }
      ]
    },
    {
      "cell_type": "code",
      "metadata": {
        "id": "g0ywrJswbhjz",
        "colab_type": "code",
        "colab": {},
        "outputId": "3453b34c-859c-495d-ef2f-623e17cdcd06"
      },
      "source": [
        "word = \"XYZ\"\n",
        "list3=[]\n",
        "\n",
        "for i in range(1,len(word)+1):\n",
        "    for j in word:\n",
        "        list3.append(j*i)\n",
        "        \n",
        "l = [j*i for i in range(1,len(word)+1) for j in word]\n",
        "print(l)"
      ],
      "execution_count": null,
      "outputs": [
        {
          "output_type": "stream",
          "text": [
            "['X', 'Y', 'Z', 'XX', 'YY', 'ZZ', 'XXX', 'YYY', 'ZZZ']\n"
          ],
          "name": "stdout"
        }
      ]
    },
    {
      "cell_type": "code",
      "metadata": {
        "id": "E8APwxyNbhj4",
        "colab_type": "code",
        "colab": {},
        "outputId": "10c00a11-df4c-454f-d780-ac46deb5d17b"
      },
      "source": [
        "numb = [2,3,4]\n",
        "list41 = []\n",
        "for i in numb:\n",
        "    for j in range(0,len(numb)):\n",
        "        list41.append([i+j])\n",
        "list41    "
      ],
      "execution_count": null,
      "outputs": [
        {
          "output_type": "execute_result",
          "data": {
            "text/plain": [
              "[[2], [3], [4], [3], [4], [5], [4], [5], [6]]"
            ]
          },
          "metadata": {
            "tags": []
          },
          "execution_count": 58
        }
      ]
    },
    {
      "cell_type": "code",
      "metadata": {
        "id": "wEg0xu0Ibhj8",
        "colab_type": "code",
        "colab": {},
        "outputId": "2546cc97-708c-461e-fe82-ae7a36e40bcb"
      },
      "source": [
        "numb1 = [2,3,4,5]\n",
        "list42 = [[num+n for n in numb1] for num in range(0,len(numb1)+1) ]\n",
        "print(list42)\n",
        "\n",
        "#method 2 \n",
        "# l = []\n",
        "# for i in range(0,len(numb1)+1):\n",
        "#     k = []\n",
        "#     for j in numb1:\n",
        "#         k.append(j+i)\n",
        "#     l.append(k)\n",
        "#     k=0\n",
        "# print(l)\n"
      ],
      "execution_count": null,
      "outputs": [
        {
          "output_type": "stream",
          "text": [
            "[[2, 3, 4, 5], [3, 4, 5, 6], [4, 5, 6, 7], [5, 6, 7, 8], [6, 7, 8, 9]]\n"
          ],
          "name": "stdout"
        }
      ]
    },
    {
      "cell_type": "code",
      "metadata": {
        "id": "Xlz-KJQEbhkB",
        "colab_type": "code",
        "colab": {},
        "outputId": "a67aa663-9cca-4ebd-db8d-f5e7dc8cf704"
      },
      "source": [
        "list5 = []\n",
        "for i in range(1,4):\n",
        "    for j in range(1,4):\n",
        "        list5.append(((j),(i)))\n",
        "print(list5)"
      ],
      "execution_count": null,
      "outputs": [
        {
          "output_type": "stream",
          "text": [
            "[(1, 1), (2, 1), (3, 1), (1, 2), (2, 2), (3, 2), (1, 3), (2, 3), (3, 3)]\n"
          ],
          "name": "stdout"
        }
      ]
    }
  ]
}