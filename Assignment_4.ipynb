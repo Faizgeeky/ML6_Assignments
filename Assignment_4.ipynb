{
  "nbformat": 4,
  "nbformat_minor": 0,
  "metadata": {
    "colab": {
      "name": "Assignment_4.ipynb",
      "provenance": [],
      "collapsed_sections": [],
      "authorship_tag": "ABX9TyNjpJ4GpbaeeyGWP8dN6cly",
      "include_colab_link": true
    },
    "kernelspec": {
      "name": "python3",
      "display_name": "Python 3"
    }
  },
  "cells": [
    {
      "cell_type": "markdown",
      "metadata": {
        "id": "view-in-github",
        "colab_type": "text"
      },
      "source": [
        "<a href=\"https://colab.research.google.com/github/Faizgeeky/ML6_Assignments/blob/master/Assignment_4.ipynb\" target=\"_parent\"><img src=\"https://colab.research.google.com/assets/colab-badge.svg\" alt=\"Open In Colab\"/></a>"
      ]
    },
    {
      "cell_type": "markdown",
      "metadata": {
        "id": "8xoG_N-nZf-Q",
        "colab_type": "text"
      },
      "source": [
        "# Assignment 4"
      ]
    },
    {
      "cell_type": "markdown",
      "metadata": {
        "id": "6boxfF1NZn1c",
        "colab_type": "text"
      },
      "source": [
        "1.1 Write a Python Program(with class concepts) to find the area of the triangle using the below formula. area = (s(s-a)(s-b)(s-c)) * 0.5 Function to take the length of the sides of triangle from user should be defined in the parent class and function to calculate the area should be defined in subclass."
      ]
    },
    {
      "cell_type": "code",
      "metadata": {
        "id": "088gX-WaZobI",
        "colab_type": "code",
        "colab": {
          "base_uri": "https://localhost:8080/",
          "height": 84
        },
        "outputId": "fa1eff10-e8b1-40f0-e1f6-f9b381dac7d2"
      },
      "source": [
        "class sides:\n",
        "    def __init__(self,a,b,c):\n",
        "        self.a=a\n",
        "        self.b=b\n",
        "        self.c=c\n",
        "\n",
        "\n",
        "class areaoftraingle(sides):\n",
        "    def area(self): \n",
        "        side = (self.a + self.b + self.c ) / 2\n",
        "        \n",
        "        return (side * (side - self.a) * (side - self.b) * (side - self.c) ) ** 0.5\n",
        "  \n",
        "a,b,c = int(input(\"Side 1 \")), int(input(\"Side 2 \")), int(input(\"Side 3 \"))\n",
        "\n",
        "Obj1 = areaoftraingle(a,b,c)\n",
        "print(\"Area of traingle is \",Obj1.area())\n"
      ],
      "execution_count": 1,
      "outputs": [
        {
          "output_type": "stream",
          "text": [
            "Side 1 2\n",
            "Side 2 2\n",
            "Side 3 2\n",
            "Area of traingle is  1.7320508075688772\n"
          ],
          "name": "stdout"
        }
      ]
    },
    {
      "cell_type": "markdown",
      "metadata": {
        "id": "0_k_btygfrA9",
        "colab_type": "text"
      },
      "source": [
        "1.2 Write a function filter_long_words() that takes a list of words and an integer n and returns\n",
        "the list of words that are longer than n."
      ]
    },
    {
      "cell_type": "code",
      "metadata": {
        "id": "SYBnZWoFbtL1",
        "colab_type": "code",
        "colab": {
          "base_uri": "https://localhost:8080/",
          "height": 34
        },
        "outputId": "ae5a23c3-fb2c-4db9-f783-a3f19a314606"
      },
      "source": [
        "def filter_longs_words(wordlist,large):\n",
        "    lng_list = []\n",
        "    for i in wordlist:\n",
        "        if len(str(i)) > large:\n",
        "          lng_list.append(i)\n",
        "    return lng_list\n",
        "l=[\"abc\",\"abcdnsk\",\"klid\",5,53.2 ,\"a\"]\n",
        "filter_longs_words(l,2)"
      ],
      "execution_count": 50,
      "outputs": [
        {
          "output_type": "execute_result",
          "data": {
            "text/plain": [
              "['abc', 'abcdnsk', 'klid', 53.2]"
            ]
          },
          "metadata": {
            "tags": []
          },
          "execution_count": 50
        }
      ]
    },
    {
      "cell_type": "markdown",
      "metadata": {
        "id": "hMGBjrBRkIZE",
        "colab_type": "text"
      },
      "source": [
        "2.1 Write a Python program using function concept that maps list of words into a list of integers\n",
        "representing the lengths of the corresponding words.\n",
        "Hint: If a list [ ab,cde,erty] is passed on to the python function output should come as [2,3,4]\n",
        "Here 2,3 and 4 are the lengths of the words in the list"
      ]
    },
    {
      "cell_type": "code",
      "metadata": {
        "id": "3GIfwBymgnHm",
        "colab_type": "code",
        "colab": {
          "base_uri": "https://localhost:8080/",
          "height": 34
        },
        "outputId": "5c15c4c0-be39-4573-e80a-9ded536c0044"
      },
      "source": [
        "def len_word(lst):\n",
        "    return list(map(lambda a:len(a),lst))\n",
        "   \n",
        "l=[\"abc\",\"abcdnsk\",\"klid\" ,\"a\"]     \n",
        "len_word(l)"
      ],
      "execution_count": 59,
      "outputs": [
        {
          "output_type": "execute_result",
          "data": {
            "text/plain": [
              "[3, 7, 4, 1]"
            ]
          },
          "metadata": {
            "tags": []
          },
          "execution_count": 59
        }
      ]
    },
    {
      "cell_type": "markdown",
      "metadata": {
        "id": "BaXeqmHM6Qtm",
        "colab_type": "text"
      },
      "source": [
        "\n",
        "2.2 Write a Python function which takes a character (i.e. a string of length 1) and returns True if\n",
        "it is a vowel, False otherwise."
      ]
    },
    {
      "cell_type": "code",
      "metadata": {
        "id": "FVHNQahDlWqa",
        "colab_type": "code",
        "colab": {
          "base_uri": "https://localhost:8080/",
          "height": 50
        },
        "outputId": "d0b23e58-0f4c-4de6-90d6-fe5eeb1c8b35"
      },
      "source": [
        "vowels = [\"a\",\"e\",\"i\",\"o\",\"u\"]\n",
        "def check_volw(char1):\n",
        "    # I have used lower function in case if user insert str in Capital letter Eg : \"A\",\"E\",\"Z\",etc\n",
        "    if char1.lower() in vowels:\n",
        "        return True\n",
        "    else:\n",
        "        return False\n",
        "  \n",
        "ch = str(input(\"Enter Character to Check if it is Vowels or Not: \"))\n",
        "check_volw(ch)"
      ],
      "execution_count": 17,
      "outputs": [
        {
          "output_type": "stream",
          "text": [
            "Enter Character to Check if it is Vowels or Not: Z\n"
          ],
          "name": "stdout"
        },
        {
          "output_type": "execute_result",
          "data": {
            "text/plain": [
              "False"
            ]
          },
          "metadata": {
            "tags": []
          },
          "execution_count": 17
        }
      ]
    }
  ]
}